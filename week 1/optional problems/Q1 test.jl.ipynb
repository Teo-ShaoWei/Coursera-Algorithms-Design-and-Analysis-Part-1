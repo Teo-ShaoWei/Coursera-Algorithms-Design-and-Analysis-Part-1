{
 "cells": [
  {
   "cell_type": "code",
   "execution_count": null,
   "metadata": {
    "collapsed": false,
    "scrolled": true
   },
   "outputs": [],
   "source": [
    "using NBInclude\n",
    "nbinclude(\"Q1.jl.ipynb\")"
   ]
  },
  {
   "cell_type": "code",
   "execution_count": null,
   "metadata": {
    "collapsed": true
   },
   "outputs": [],
   "source": [
    "using FactCheck"
   ]
  },
  {
   "cell_type": "code",
   "execution_count": null,
   "metadata": {
    "collapsed": false
   },
   "outputs": [],
   "source": [
    "if current_module() == Main\n",
    "    facts(\"test `winner_merge`\") do\n",
    "        @fact winner_merge([3], [4]) --> [4, 3]\n",
    "        @fact winner_merge([5], [6, 2, 1]) --> [6, 2, 1, 5]\n",
    "        @fact winner_merge([13, 12, 9 , 6], [14]) --> [14, 13]\n",
    "        @fact winner_merge([17], [14, 12, 9 , 6]) --> [17, 14]\n",
    "    end\n",
    "end"
   ]
  },
  {
   "cell_type": "code",
   "execution_count": null,
   "metadata": {
    "collapsed": false
   },
   "outputs": [],
   "source": [
    "if current_module() == Main\n",
    "    facts(\"test `second_largest`\") do\n",
    "        @fact second_largest([1, 7]) --> 1\n",
    "        @fact second_largest([8, 4]) --> 4\n",
    "        @fact second_largest([9, 5, 3]) --> 5\n",
    "        @fact second_largest([3, 7, 10 , 6, 91, 1]) --> 10\n",
    "    end\n",
    "end\n"
   ]
  }
 ],
 "metadata": {
  "kernelspec": {
   "display_name": "Julia 0.4.5",
   "language": "julia",
   "name": "julia-0.4"
  },
  "language_info": {
   "file_extension": ".jl",
   "mimetype": "application/julia",
   "name": "julia",
   "version": "0.4.5"
  }
 },
 "nbformat": 4,
 "nbformat_minor": 0
}

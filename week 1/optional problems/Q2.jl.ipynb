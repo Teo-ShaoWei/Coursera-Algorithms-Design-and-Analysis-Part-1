{
 "cells": [
  {
   "cell_type": "markdown",
   "metadata": {},
   "source": [
    "## Problem"
   ]
  },
  {
   "cell_type": "markdown",
   "metadata": {},
   "source": [
    "You are a given a unimodal array of $n$ distinct elements, meaning that its entries are in increasing order up until its maximum element, after which its elements are in decreasing order. Give an algorithm to compute the maximum element that runs in $O(\\log n)$ time."
   ]
  },
  {
   "cell_type": "markdown",
   "metadata": {},
   "source": [
    "## Solution"
   ]
  },
  {
   "cell_type": "markdown",
   "metadata": {},
   "source": [
    "The general idea is to use the custom binary search, where the `get_difference` function check whether the current index is part of the left slope (return -1), the right slope (return 1), or the peak (return 0). This give us a $O(\\log n)$ solution. A hit will always be found because this method should only used on non-empty unimodal vectors, so we do not do any error catching."
   ]
  },
  {
   "cell_type": "code",
   "execution_count": null,
   "metadata": {
    "collapsed": false
   },
   "outputs": [],
   "source": [
    "using NBInclude\n",
    "nbinclude(joinpath(readchomp(`git rev-parse --show-toplevel`),\n",
    "                             \"resource\",\n",
    "                             \"binary search.jl.ipynb\"))"
   ]
  },
  {
   "cell_type": "code",
   "execution_count": null,
   "metadata": {
    "collapsed": false
   },
   "outputs": [],
   "source": [
    "function get_difference(v::Vector, index::Int)\n",
    "    negative_difference = (index == 1 || v[index] - v[index - 1] > 0) ? -1 : 0\n",
    "    positive_difference = (index == length(v) || v[index] - v[index + 1] > 0) ? 1 : 0\n",
    "    return negative_difference + positive_difference\n",
    "end"
   ]
  },
  {
   "cell_type": "code",
   "execution_count": null,
   "metadata": {
    "collapsed": false
   },
   "outputs": [],
   "source": [
    "get_max_element(v::Vector) = v[custom_binary_search(get_difference, v)]"
   ]
  }
 ],
 "metadata": {
  "kernelspec": {
   "display_name": "Julia 0.4.5",
   "language": "julia",
   "name": "julia-0.4"
  },
  "language_info": {
   "file_extension": ".jl",
   "mimetype": "application/julia",
   "name": "julia",
   "version": "0.4.5"
  }
 },
 "nbformat": 4,
 "nbformat_minor": 0
}

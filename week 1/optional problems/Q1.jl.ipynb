{
 "cells": [
  {
   "cell_type": "markdown",
   "metadata": {},
   "source": [
    "## Problem"
   ]
  },
  {
   "cell_type": "markdown",
   "metadata": {},
   "source": [
    "You are given as input an unsorted array of $n$ distinct numbers, where $n$ is a power of $2$. Give an algorithm that identifies the second-largest number in the array, and that uses at most $n + \\log_2 n − 2$ comparisons."
   ]
  },
  {
   "cell_type": "markdown",
   "metadata": {
    "collapsed": true
   },
   "source": [
    "## Solution"
   ]
  },
  {
   "cell_type": "markdown",
   "metadata": {},
   "source": [
    "The general idea is to use a modified merge sort, whereby the modified merge takes in 2 vectors where the first element is the largest in each vector. We compare once to find the largest of these 2. The winner will append the loser to it's vector and be returned. This means the loser's vector is discarded.\n",
    "\n",
    "After the merge sort is done, we have done $n - 1$ comparisons to get the final \"sorted\" vector, containing the largest element in the original vector as the first element, and those that lost to it. There are $\\log_2 n$ such elements. The second largest element has to lie in this vector, as they cannot loss elsewhere. So a simple max search of $\\log_2 n - 1$ comparisons will unravel it.\n",
    "\n",
    "Total operations is thus $n + \\log_2 n - 2$ oeprations."
   ]
  },
  {
   "cell_type": "code",
   "execution_count": null,
   "metadata": {
    "collapsed": false
   },
   "outputs": [],
   "source": [
    "using NBInclude\n",
    "nbinclude(joinpath(readchomp(`git rev-parse --show-toplevel`),\n",
    "                             \"resource\",\n",
    "                             \"merge sort.jl.ipynb\"))"
   ]
  },
  {
   "cell_type": "code",
   "execution_count": null,
   "metadata": {
    "collapsed": false
   },
   "outputs": [],
   "source": [
    "function winner_merge{T}(v₁::Vector{T}, v₂::Vector{T})\n",
    "    if v₁[1] ≥ v₂[1]\n",
    "        push!(v₁, v₂[1])\n",
    "        return v₁\n",
    "    end\n",
    "\n",
    "    push!(v₂, v₁[1])\n",
    "    return v₂\n",
    "end"
   ]
  },
  {
   "cell_type": "code",
   "execution_count": null,
   "metadata": {
    "collapsed": false
   },
   "outputs": [],
   "source": [
    "function second_largest(v::Vector)\n",
    "    winners = custom_merge_sort(winner_merge, v)\n",
    "    return custom_merge_sort(winner_merge, winners[2:end])[1]\n",
    "end"
   ]
  }
 ],
 "metadata": {
  "kernelspec": {
   "display_name": "Julia 0.4.5",
   "language": "julia",
   "name": "julia-0.4"
  },
  "language_info": {
   "file_extension": ".jl",
   "mimetype": "application/julia",
   "name": "julia",
   "version": "0.4.5"
  }
 },
 "nbformat": 4,
 "nbformat_minor": 0
}

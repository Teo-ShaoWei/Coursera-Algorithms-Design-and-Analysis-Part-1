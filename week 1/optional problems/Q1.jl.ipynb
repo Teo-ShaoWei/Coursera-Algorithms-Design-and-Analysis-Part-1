{
 "cells": [
  {
   "cell_type": "markdown",
   "metadata": {},
   "source": [
    "## Problem"
   ]
  },
  {
   "cell_type": "markdown",
   "metadata": {},
   "source": [
    "You are given as input an unsorted array of $n$ distinct numbers, where $n$ is a power of $2$. Give an algorithm that identifies the second-largest number in the array, and that uses at most $n + \\log_2 n − 2$ comparisons."
   ]
  },
  {
   "cell_type": "markdown",
   "metadata": {
    "collapsed": true
   },
   "source": [
    "## Solution"
   ]
  },
  {
   "cell_type": "markdown",
   "metadata": {},
   "source": [
    "The general idea is to use a modified merge sort, whereby the modified merge takes in a 2-element tuple: the largest value so far; and the values it was compared to as a vector. The result is a 2-element tuple: the larger of the two largest value; and the winner's vector with the loser value pushed into it.\n",
    "\n",
    "After the merge sort is done, we have done $n - 1$ comparisons to get the largest number (winner), and the vector of numbers that it has compared to. This list is length $\\log_2 n$. The second largest element is in this list, and a simple linear comparison of $\\log_2 n - 1$ operations will unravel it.\n",
    "\n",
    "Total operations is thus $n + \\log_2 n - 2$ oeprations."
   ]
  },
  {
   "cell_type": "code",
   "execution_count": null,
   "metadata": {
    "collapsed": false
   },
   "outputs": [],
   "source": [
    "module Util\n",
    "using NBInclude\n",
    "nbinclude(joinpath(readchomp(`git rev-parse --show-toplevel`),\n",
    "                             \"resource\",\n",
    "                             \"merge sort.jl.ipynb\"))\n",
    "end\n",
    "\n",
    "custom_merge_sort = Util.custom_merge_sort"
   ]
  },
  {
   "cell_type": "code",
   "execution_count": null,
   "metadata": {
    "collapsed": false
   },
   "outputs": [],
   "source": [
    "# This function will only be called when length(v) == 1.\n",
    "winner_base{T}(v::Vector{T}) = (v[1], T[])"
   ]
  },
  {
   "cell_type": "code",
   "execution_count": null,
   "metadata": {
    "collapsed": false
   },
   "outputs": [],
   "source": [
    "function winner_merge{T}(v₁::Tuple{T, Vector{T}}, v₂::Tuple{T, Vector{T}})\n",
    "    if v₁[1] ≥ v₂[1]\n",
    "        push!(v₁[2], v₂[1])\n",
    "        return v₁\n",
    "    end\n",
    "\n",
    "    push!(v₂[2], v₁[1])\n",
    "    return v₂\n",
    "end"
   ]
  },
  {
   "cell_type": "code",
   "execution_count": null,
   "metadata": {
    "collapsed": false
   },
   "outputs": [],
   "source": [
    "function second_largest(v::Vector)\n",
    "    (winner, compared) = custom_merge_sort(winner_merge, winner_base, v)\n",
    "    (second_place, _) = custom_merge_sort(winner_merge, winner_base, compared)\n",
    "    \n",
    "    return second_place\n",
    "end"
   ]
  },
  {
   "cell_type": "markdown",
   "metadata": {},
   "source": [
    "Let $k \\in \\mathbb{Z}$ be such that $2^k = n$. At the bottom merge, there are $\\frac{n}{2}$ comparisons. At the next higher merge, we are merging 2-element vector with a 2-element vector but only doing so twice for the largest 2 number. This give us $\\frac{n}{4} \\times 2$ comparisons. At the next higher level, we are still having a 2-element merge with 2-element, and so there is $\\frac{n}{8} \\times 2$ comparisons.\n",
    "\n",
    "This give us a total comparison of:-\n",
    "\n",
    "$$\\frac{n}{2} + \\left( 1 + 2 + 4 + \\cdots + \\frac{n}{4} \\right) \\times 2$$"
   ]
  },
  {
   "cell_type": "markdown",
   "metadata": {},
   "source": [
    "Unit tests are developed together with the functions."
   ]
  },
  {
   "cell_type": "code",
   "execution_count": null,
   "metadata": {
    "collapsed": true
   },
   "outputs": [],
   "source": [
    "using FactCheck"
   ]
  },
  {
   "cell_type": "code",
   "execution_count": null,
   "metadata": {
    "collapsed": false
   },
   "outputs": [],
   "source": [
    "if current_module() == Main\n",
    "    facts(\"test `winner_merge`\") do\n",
    "        context(\"partition(s) empty\") do\n",
    "            @fact winner_merge((3, Int[]), (4, Int[])) --> (4, [3])\n",
    "            @fact winner_merge((5, Int[]), (6, [2, 1])) --> (6, [2, 1, 5])\n",
    "            @fact winner_merge((13, [12, 9 , 6]), (14, Int[])) --> (14, [13])\n",
    "        end\n",
    "        context(\"normal partition\") do\n",
    "            @fact winner_merge((8, [5, 7, 1]), (6, [3, 5, 1])) --> (8, [5, 7, 1, 6])\n",
    "        end\n",
    "    end\n",
    "end"
   ]
  },
  {
   "cell_type": "code",
   "execution_count": null,
   "metadata": {
    "collapsed": false
   },
   "outputs": [],
   "source": [
    "if current_module() == Main\n",
    "    facts(\"test `second_largest`\") do\n",
    "        @fact second_largest([1, 7]) --> 1\n",
    "        @fact second_largest([8, 4]) --> 4\n",
    "        @fact second_largest([9, 5, 3]) --> 5\n",
    "        @fact second_largest([3, 7, 10 , 6, 91, 1]) --> 10\n",
    "    end\n",
    "end\n"
   ]
  }
 ],
 "metadata": {
  "kernelspec": {
   "display_name": "Julia 0.4.5",
   "language": "julia",
   "name": "julia-0.4"
  },
  "language_info": {
   "file_extension": ".jl",
   "mimetype": "application/julia",
   "name": "julia",
   "version": "0.4.5"
  }
 },
 "nbformat": 4,
 "nbformat_minor": 0
}

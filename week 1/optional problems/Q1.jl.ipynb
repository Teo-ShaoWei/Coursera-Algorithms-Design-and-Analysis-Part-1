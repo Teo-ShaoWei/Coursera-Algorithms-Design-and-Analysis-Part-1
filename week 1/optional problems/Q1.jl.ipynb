{
 "cells": [
  {
   "cell_type": "markdown",
   "metadata": {},
   "source": [
    "You are given as input an unsorted array of $n$ distinct numbers, where $n$ is a power of $2$. Give an algorithm that identifies the second-largest number in the array, and that uses at most $n + \\log_2 n − 2$ comparisons."
   ]
  },
  {
   "cell_type": "code",
   "execution_count": null,
   "metadata": {
    "collapsed": true
   },
   "outputs": [],
   "source": []
  }
 ],
 "metadata": {
  "kernelspec": {
   "display_name": "Julia 0.4.5",
   "language": "julia",
   "name": "julia-0.4"
  },
  "language_info": {
   "file_extension": ".jl",
   "mimetype": "application/julia",
   "name": "julia",
   "version": "0.4.5"
  }
 },
 "nbformat": 4,
 "nbformat_minor": 0
}

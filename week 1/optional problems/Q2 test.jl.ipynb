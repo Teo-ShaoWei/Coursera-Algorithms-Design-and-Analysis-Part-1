{
 "cells": [
  {
   "cell_type": "code",
   "execution_count": null,
   "metadata": {
    "collapsed": false
   },
   "outputs": [],
   "source": [
    "using NBInclude\n",
    "nbinclude(\"Q2.jl.ipynb\")"
   ]
  },
  {
   "cell_type": "code",
   "execution_count": null,
   "metadata": {
    "collapsed": true
   },
   "outputs": [],
   "source": [
    "using FactCheck"
   ]
  },
  {
   "cell_type": "code",
   "execution_count": null,
   "metadata": {
    "collapsed": false,
    "scrolled": true
   },
   "outputs": [],
   "source": [
    "if current_module() == Main\n",
    "    facts(\"test `get_difference`\") do\n",
    "        context(\"increasing vector\") do\n",
    "            vector = collect(1:4)\n",
    "            @fact get_difference(vector, 1) --> -1\n",
    "            @fact get_difference(vector, 3) --> -1\n",
    "            @fact get_difference(vector, 4) --> 0\n",
    "        end\n",
    "        context(\"decreasing vector\") do\n",
    "            vector = collect(5:-1:2)\n",
    "            @fact get_difference(vector, 1) --> 0\n",
    "            @fact get_difference(vector, 3) --> 1\n",
    "            @fact get_difference(vector, 4) --> 1\n",
    "        end\n",
    "        context(\"unimodal vector\") do\n",
    "            vector = [1, 3, 5, 7, 4, 2]\n",
    "            @fact get_difference(vector, 1) --> -1\n",
    "            @fact get_difference(vector, 3) --> -1\n",
    "            @fact get_difference(vector, 4) --> 0\n",
    "            @fact get_difference(vector, 5) --> 1\n",
    "            @fact get_difference(vector, 6) --> 1\n",
    "        end\n",
    "    end\n",
    "end"
   ]
  },
  {
   "cell_type": "code",
   "execution_count": null,
   "metadata": {
    "collapsed": false
   },
   "outputs": [],
   "source": [
    "if current_module() == Main\n",
    "    facts(\"test `get_max_element`\") do\n",
    "        @fact get_max_element(collect(1:4)) --> 4\n",
    "        @fact get_max_element(collect(5:-1:2)) --> 5\n",
    "        @fact get_max_element([1, 3, 5, 7, 4, 2]) --> 7\n",
    "        @fact get_max_element([3, 7, 10, 91, 6, 1]) --> 91\n",
    "    end\n",
    "end\n"
   ]
  }
 ],
 "metadata": {
  "kernelspec": {
   "display_name": "Julia 0.4.5",
   "language": "julia",
   "name": "julia-0.4"
  },
  "language_info": {
   "file_extension": ".jl",
   "mimetype": "application/julia",
   "name": "julia",
   "version": "0.4.5"
  }
 },
 "nbformat": 4,
 "nbformat_minor": 0
}

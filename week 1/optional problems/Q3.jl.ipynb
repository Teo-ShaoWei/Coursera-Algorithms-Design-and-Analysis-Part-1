{
 "cells": [
  {
   "cell_type": "markdown",
   "metadata": {},
   "source": [
    "## Problem"
   ]
  },
  {
   "cell_type": "markdown",
   "metadata": {},
   "source": [
    "You are given a sorted (from smallest to largest) array `A` of $n$ distinct integers which can be positive, negative, or zero. You want to decide whether or not there is an index `i` such that `A[i] = i`. Design the fastest algorithm that you can for solving this problem."
   ]
  },
  {
   "cell_type": "markdown",
   "metadata": {
    "collapsed": true
   },
   "source": [
    "## Solution"
   ]
  },
  {
   "cell_type": "markdown",
   "metadata": {},
   "source": [
    "The general idea is that `A[i] - i` is a non-decreasing function. Thus we can use the custom binary search, where the `get_difference` function get the difference `A[i] - i`."
   ]
  },
  {
   "cell_type": "code",
   "execution_count": null,
   "metadata": {
    "collapsed": true
   },
   "outputs": [],
   "source": [
    "using NBInclude\n",
    "nbinclude(joinpath(readchomp(`git rev-parse --show-toplevel`),\n",
    "                             \"resource\",\n",
    "                             \"binary search.jl.ipynb\"))"
   ]
  },
  {
   "cell_type": "code",
   "execution_count": null,
   "metadata": {
    "collapsed": true
   },
   "outputs": [],
   "source": [
    "get_difference(A::Vector, i::Int) = A[i] - i"
   ]
  },
  {
   "cell_type": "code",
   "execution_count": null,
   "metadata": {
    "collapsed": true
   },
   "outputs": [],
   "source": [
    "function hit(A::Vector)\n",
    "    i = custom_binary_search(get_difference, A)\n",
    "    return i ≤ length(A) && (A[i] == i)\n",
    "end"
   ]
  }
 ],
 "metadata": {
  "kernelspec": {
   "display_name": "Julia 0.4.5",
   "language": "julia",
   "name": "julia-0.4"
  },
  "language_info": {
   "file_extension": ".jl",
   "mimetype": "application/julia",
   "name": "julia",
   "version": "0.4.5"
  }
 },
 "nbformat": 4,
 "nbformat_minor": 0
}

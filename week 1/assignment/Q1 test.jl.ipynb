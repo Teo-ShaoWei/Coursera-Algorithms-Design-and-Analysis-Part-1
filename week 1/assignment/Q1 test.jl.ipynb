{
 "cells": [
  {
   "cell_type": "code",
   "execution_count": 10,
   "metadata": {
    "collapsed": false,
    "scrolled": true
   },
   "outputs": [
    {
     "data": {
      "text/plain": [
       "count_inversion (generic function with 1 method)"
      ]
     },
     "execution_count": 10,
     "metadata": {},
     "output_type": "execute_result"
    }
   ],
   "source": [
    "using NBInclude\n",
    "nbinclude(\"Q1.jl.ipynb\")"
   ]
  },
  {
   "cell_type": "code",
   "execution_count": 11,
   "metadata": {
    "collapsed": true
   },
   "outputs": [],
   "source": [
    "using FactCheck"
   ]
  },
  {
   "cell_type": "code",
   "execution_count": 12,
   "metadata": {
    "collapsed": false
   },
   "outputs": [
    {
     "name": "stdout",
     "output_type": "stream",
     "text": [
      "test `count_inversion`\n",
      "  > sorted vector\n",
      "  > reverse vector\n",
      "  > random unsorted vector\n",
      "6 facts verified.\n"
     ]
    },
    {
     "data": {
      "text/plain": [
       "delayed_handler (generic function with 4 methods)"
      ]
     },
     "execution_count": 12,
     "metadata": {},
     "output_type": "execute_result"
    }
   ],
   "source": [
    "if current_module() == Main\n",
    "    facts(\"test `count_inversion`\") do\n",
    "        context(\"sorted vector\") do\n",
    "            @fact count_inversion(Int[]) --> 0\n",
    "            @fact count_inversion([3, 6, 8, 9, 14]) --> 0\n",
    "        end\n",
    "        context(\"reverse vector\") do\n",
    "            @fact count_inversion(collect(2:-1:1)) --> 1\n",
    "            @fact count_inversion(collect(3:-1:1)) --> 3\n",
    "            @fact count_inversion(collect(10:-1:1)) --> 45\n",
    "        end\n",
    "        context(\"random unsorted vector\") do\n",
    "            @fact count_inversion([14, 51, 9, 1, 41, 7, 42]) --> 11\n",
    "        end\n",
    "    end\n",
    "end"
   ]
  }
 ],
 "metadata": {
  "kernelspec": {
   "display_name": "Julia 0.4.5",
   "language": "julia",
   "name": "julia-0.4"
  },
  "language_info": {
   "file_extension": ".jl",
   "mimetype": "application/julia",
   "name": "julia",
   "version": "0.4.5"
  }
 },
 "nbformat": 4,
 "nbformat_minor": 0
}

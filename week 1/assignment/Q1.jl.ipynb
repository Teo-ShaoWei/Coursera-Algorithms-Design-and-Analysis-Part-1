{
 "cells": [
  {
   "cell_type": "markdown",
   "metadata": {},
   "source": [
    "## Problem"
   ]
  },
  {
   "cell_type": "markdown",
   "metadata": {},
   "source": [
    "The file `IntegerArray.txt` contains all of the 100,000 integers between 1 and 100,000 (inclusive) in some order, with no integer repeated.\n",
    "\n",
    "Your task is to compute the number of inversions in the file given, where the ith row of the file indicates the ith entry of an array.\n",
    "\n",
    "Because of the large size of this array, you should implement the fast divide-and-conquer algorithm covered in the video lectures."
   ]
  },
  {
   "cell_type": "markdown",
   "metadata": {},
   "source": [
    "## Solution"
   ]
  },
  {
   "cell_type": "markdown",
   "metadata": {},
   "source": [
    "The general idea is to use a modified merge sort, whereby the modified `merge` is a stateful function that also accumulates the number of inversions found during merging (definition of inversion as described in lecture). Once the merge sort is done, we will recover the total number of inversions in the original vector."
   ]
  },
  {
   "cell_type": "code",
   "execution_count": 1,
   "metadata": {
    "collapsed": false
   },
   "outputs": [
    {
     "data": {
      "text/plain": [
       "custom_merge_sort (generic function with 1 method)"
      ]
     },
     "execution_count": 1,
     "metadata": {},
     "output_type": "execute_result"
    }
   ],
   "source": [
    "using NBInclude\n",
    "nbinclude(joinpath(readchomp(`git rev-parse --show-toplevel`),\n",
    "                             \"resource\",\n",
    "                             \"merge sort.jl.ipynb\"))"
   ]
  },
  {
   "cell_type": "code",
   "execution_count": 5,
   "metadata": {
    "collapsed": false
   },
   "outputs": [
    {
     "data": {
      "text/plain": [
       "make_inversion_merge (generic function with 1 method)"
      ]
     },
     "execution_count": 5,
     "metadata": {},
     "output_type": "execute_result"
    }
   ],
   "source": [
    "function make_inversion_merge()\n",
    "    total_inversion = 0\n",
    "    \n",
    "    get_total_inversion() = total_inversion\n",
    "    \n",
    "    function inversion_merge{T}(v₁::Vector{T}, v₂::Vector{T})\n",
    "        result = T[]\n",
    "\n",
    "        i₁ = 1; i₂ = 1\n",
    "        while i₁ ≤ length(v₁) && i₂ ≤ length(v₂)\n",
    "            if v₁[i₁] ≤ v₂[i₂]\n",
    "                push!(result, v₁[i₁])\n",
    "                i₁ += 1\n",
    "            else\n",
    "                push!(result, v₂[i₂])\n",
    "                i₂ += 1\n",
    "                total_inversion += length(v₁) - i₁ + 1\n",
    "            end\n",
    "        end\n",
    "\n",
    "        append!(result, v₁[i₁:end])\n",
    "        append!(result, v₂[i₂:end])\n",
    "\n",
    "        return result\n",
    "    end\n",
    "    \n",
    "    return inversion_merge, get_total_inversion\n",
    "end"
   ]
  },
  {
   "cell_type": "code",
   "execution_count": 6,
   "metadata": {
    "collapsed": false
   },
   "outputs": [
    {
     "data": {
      "text/plain": [
       "count_inversion (generic function with 1 method)"
      ]
     },
     "execution_count": 6,
     "metadata": {},
     "output_type": "execute_result"
    }
   ],
   "source": [
    "function count_inversion(v::Vector)\n",
    "    (inversion_merge, get_total_inversion) = make_inversion_merge()\n",
    "    custom_merge_sort(inversion_merge, v)\n",
    "    return get_total_inversion()\n",
    "end"
   ]
  }
 ],
 "metadata": {
  "kernelspec": {
   "display_name": "Julia 0.4.5",
   "language": "julia",
   "name": "julia-0.4"
  },
  "language_info": {
   "file_extension": ".jl",
   "mimetype": "application/julia",
   "name": "julia",
   "version": "0.4.5"
  }
 },
 "nbformat": 4,
 "nbformat_minor": 0
}

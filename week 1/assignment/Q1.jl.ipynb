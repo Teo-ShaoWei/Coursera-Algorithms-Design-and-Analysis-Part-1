{
 "cells": [
  {
   "cell_type": "code",
   "execution_count": 1,
   "metadata": {
    "collapsed": false
   },
   "outputs": [
    {
     "data": {
      "text/plain": [
       "custom_merge_sort (generic function with 1 method)"
      ]
     },
     "execution_count": 1,
     "metadata": {},
     "output_type": "execute_result"
    }
   ],
   "source": [
    "module Util\n",
    "using NBInclude\n",
    "nbinclude(joinpath(readchomp(`git rev-parse --show-toplevel`),\n",
    "                             \"resource\",\n",
    "                             \"merge sort.jl.ipynb\"))\n",
    "end\n",
    "\n",
    "custom_merge_sort = Util.custom_merge_sort"
   ]
  },
  {
   "cell_type": "code",
   "execution_count": 2,
   "metadata": {
    "collapsed": false
   },
   "outputs": [
    {
     "data": {
      "text/plain": [
       "inversion_base (generic function with 1 method)"
      ]
     },
     "execution_count": 2,
     "metadata": {},
     "output_type": "execute_result"
    }
   ],
   "source": [
    "inversion_base(v::Vector) = v"
   ]
  },
  {
   "cell_type": "code",
   "execution_count": 5,
   "metadata": {
    "collapsed": false
   },
   "outputs": [
    {
     "data": {
      "text/plain": [
       "make_inversion_merge (generic function with 1 method)"
      ]
     },
     "execution_count": 5,
     "metadata": {},
     "output_type": "execute_result"
    }
   ],
   "source": [
    "function make_inversion_merge()\n",
    "    total_inversion = 0\n",
    "    \n",
    "    get_total_inversion() = total_inversion\n",
    "    \n",
    "    function inversion_merge{T}(v₁::Vector{T}, v₂::Vector{T})\n",
    "        result = T[]\n",
    "\n",
    "        i₁ = 1; i₂ = 1\n",
    "        while i₁ ≤ length(v₁) && i₂ ≤ length(v₂)\n",
    "            if v₁[i₁] ≤ v₂[i₂]\n",
    "                push!(result, v₁[i₁])\n",
    "                i₁ += 1\n",
    "            else\n",
    "                push!(result, v₂[i₂])\n",
    "                i₂ += 1\n",
    "                total_inversion += length(v₁) - i₁ + 1\n",
    "            end\n",
    "        end\n",
    "\n",
    "        append!(result, v₁[i₁:end])\n",
    "        append!(result, v₂[i₂:end])\n",
    "\n",
    "        return result\n",
    "    end\n",
    "    \n",
    "    return inversion_merge, get_total_inversion\n",
    "end"
   ]
  },
  {
   "cell_type": "code",
   "execution_count": 6,
   "metadata": {
    "collapsed": false
   },
   "outputs": [
    {
     "data": {
      "text/plain": [
       "count_inversion (generic function with 1 method)"
      ]
     },
     "execution_count": 6,
     "metadata": {},
     "output_type": "execute_result"
    }
   ],
   "source": [
    "function count_inversion(v::Vector)\n",
    "    (inversion_merge, get_total_inversion) = make_inversion_merge()\n",
    "    custom_merge_sort(inversion_merge, inversion_base, v)\n",
    "    return get_total_inversion()\n",
    "end"
   ]
  },
  {
   "cell_type": "code",
   "execution_count": 10,
   "metadata": {
    "collapsed": false
   },
   "outputs": [
    {
     "data": {
      "text/plain": [
       "0"
      ]
     },
     "execution_count": 10,
     "metadata": {},
     "output_type": "execute_result"
    }
   ],
   "source": [
    "count_inversion([])"
   ]
  },
  {
   "cell_type": "code",
   "execution_count": 12,
   "metadata": {
    "collapsed": true
   },
   "outputs": [],
   "source": [
    "using FactCheck"
   ]
  },
  {
   "cell_type": "code",
   "execution_count": 17,
   "metadata": {
    "collapsed": false
   },
   "outputs": [
    {
     "name": "stdout",
     "output_type": "stream",
     "text": [
      "test `count_inversion`\n",
      "  > sorted vector\n",
      "  > reverse vector\n",
      "  > random unsorted vector\n",
      "6 facts verified.\n"
     ]
    },
    {
     "data": {
      "text/plain": [
       "delayed_handler (generic function with 4 methods)"
      ]
     },
     "execution_count": 17,
     "metadata": {},
     "output_type": "execute_result"
    }
   ],
   "source": [
    "if current_module() == Main\n",
    "    facts(\"test `count_inversion`\") do\n",
    "        context(\"sorted vector\") do\n",
    "            @fact count_inversion(Int[]) --> 0\n",
    "            @fact count_inversion([3, 6, 8, 9, 14]) --> 0\n",
    "        end\n",
    "        context(\"reverse vector\") do\n",
    "            @fact count_inversion(collect(2:-1:1)) --> 1\n",
    "            @fact count_inversion(collect(3:-1:1)) --> 3\n",
    "            @fact count_inversion(collect(10:-1:1)) --> 45\n",
    "        end\n",
    "        context(\"random unsorted vector\") do\n",
    "            @fact count_inversion([14, 51, 9, 1, 41, 7, 42]) --> 11\n",
    "        end\n",
    "    end\n",
    "end"
   ]
  },
  {
   "cell_type": "code",
   "execution_count": 21,
   "metadata": {
    "collapsed": false
   },
   "outputs": [
    {
     "data": {
      "text/plain": [
       "2407905288"
      ]
     },
     "execution_count": 21,
     "metadata": {},
     "output_type": "execute_result"
    }
   ],
   "source": [
    "integers = readcsv(\"IntegerArray.txt\")[:]\n",
    "count_inversion(integers)\n",
    "# Correct answer for this assignment is 2407905288."
   ]
  },
  {
   "cell_type": "code",
   "execution_count": null,
   "metadata": {
    "collapsed": true
   },
   "outputs": [],
   "source": []
  }
 ],
 "metadata": {
  "kernelspec": {
   "display_name": "Julia 0.4.5",
   "language": "julia",
   "name": "julia-0.4"
  },
  "language_info": {
   "file_extension": ".jl",
   "mimetype": "application/julia",
   "name": "julia",
   "version": "0.4.5"
  }
 },
 "nbformat": 4,
 "nbformat_minor": 0
}

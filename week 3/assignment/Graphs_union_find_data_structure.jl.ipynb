{
 "cells": [
  {
   "cell_type": "code",
   "execution_count": null,
   "metadata": {
    "collapsed": true
   },
   "outputs": [],
   "source": [
    "immutable Vertex\n",
    "    id::Int\n",
    "end"
   ]
  },
  {
   "cell_type": "code",
   "execution_count": null,
   "metadata": {
    "collapsed": true
   },
   "outputs": [],
   "source": [
    "type Vertices\n",
    "    list::Vector{Vertex}\n",
    "    num_valid::Int\n",
    "    \n",
    "    Vertices(n::Int) = new([Vertex(i) for i in 1:n], n)\n",
    "end"
   ]
  },
  {
   "cell_type": "code",
   "execution_count": null,
   "metadata": {
    "collapsed": false
   },
   "outputs": [],
   "source": [
    "Base.length(v::Vertices) = v.num_valid\n",
    "Base.getindex(v::Vertices, i::Int) = Base.getindex(v.list, i)\n",
    "\n",
    "function reduce_vertices!(v::Vertices)\n",
    "    v.num_valid -= 1\n",
    "end"
   ]
  },
  {
   "cell_type": "code",
   "execution_count": null,
   "metadata": {
    "collapsed": false
   },
   "outputs": [],
   "source": [
    "immutable Edge\n",
    "    tail::Vertex\n",
    "    head::Vertex\n",
    "end"
   ]
  },
  {
   "cell_type": "code",
   "execution_count": null,
   "metadata": {
    "collapsed": false
   },
   "outputs": [],
   "source": [
    "type Edges\n",
    "    list::Vector{Edge}\n",
    "    num_valid::Int\n",
    "    \n",
    "    Edges() = new(Edge[], 0)\n",
    "end"
   ]
  },
  {
   "cell_type": "code",
   "execution_count": null,
   "metadata": {
    "collapsed": false
   },
   "outputs": [],
   "source": [
    "Base.start(v::Edges) = 1\n",
    "Base.done(v::Edges, state::Int) = v.num_valid < state\n",
    "Base.next(v::Edges, state) = (v.list[state], state + 1)\n",
    "Base.length(v::Edges) = v.num_valid\n",
    "Base.getindex(v::Edges, i::Int) = Base.getindex(v.list, i)\n",
    "\n",
    "function Base.rand(v::Edges)\n",
    "    return v.list[Base.rand(1:v.num_valid)]\n",
    "end"
   ]
  },
  {
   "cell_type": "code",
   "execution_count": null,
   "metadata": {
    "collapsed": false
   },
   "outputs": [],
   "source": [
    "add_edge!(edges::Edges, tail::Vertex, head::Vertex) = add_edge!(edges, Edge(tail, head))\n",
    "function add_edge!(edges::Edges, edge::Edge)\n",
    "    edges.num_valid += 1\n",
    "\n",
    "    if edges.num_valid > length(edges.list)\n",
    "        push!(edges.list, edge)\n",
    "    else\n",
    "        edges.list[edges.num_valid] = edge\n",
    "    end \n",
    "end\n",
    "\n",
    "function remove_edge!(edges::Edges, index::Int)\n",
    "    edges.list[index] = edges.list[edges.num_valid]\n",
    "    edges.num_valid -= 1\n",
    "    \n",
    "end\n",
    "\n",
    "function replace_edge!(edges::Edges, index::Int, new_edge::Edge)\n",
    "    edges.list[index] = new_edge\n",
    "end"
   ]
  },
  {
   "cell_type": "code",
   "execution_count": null,
   "metadata": {
    "collapsed": false
   },
   "outputs": [],
   "source": [
    "immutable Graph\n",
    "    vertices::Vertices\n",
    "    edges::Edges\n",
    "    \n",
    "    Graph(num_vertices::Int) = new(Vertices(num_vertices), Edges())\n",
    "end"
   ]
  },
  {
   "cell_type": "code",
   "execution_count": null,
   "metadata": {
    "collapsed": false,
    "scrolled": false
   },
   "outputs": [],
   "source": [
    "function add_edges!(g::Graph, tail::Vertex, heads::Vector{Vertex})\n",
    "    for head in heads\n",
    "        add_edge!(g.edges, tail, head)\n",
    "    end\n",
    "end\n",
    "\n",
    "function merge_vertices!(g::Graph, source::Vertex, target::Vertex)\n",
    "    i = 1\n",
    "    while i ≤ length(g.edges)\n",
    "        edge = g.edges[i]\n",
    "        \n",
    "        if edge.tail == source\n",
    "            if edge.head == target\n",
    "                remove_edge!(g.edges, i)\n",
    "                continue\n",
    "            else\n",
    "                replace_edge!(g.edges, i, Edge(target, edge.head))\n",
    "            end\n",
    "        elseif edge.head == source\n",
    "            if edge.tail == target\n",
    "                remove_edge!(g.edges, i)\n",
    "                continue\n",
    "            else\n",
    "                replace_edge!(g.edges, i, Edge(edge.tail, target))\n",
    "            end\n",
    "        end\n",
    "        \n",
    "        i += 1\n",
    "    end\n",
    "    reduce_vertices!(g.vertices)\n",
    "end"
   ]
  },
  {
   "cell_type": "code",
   "execution_count": null,
   "metadata": {
    "collapsed": false
   },
   "outputs": [],
   "source": [
    "immutable Element\n",
    "    value::Int\n",
    "    marker::Int\n",
    "    rank::Int\n",
    "end\n",
    "    \n",
    "Element(value::Int, rank::Int = 0) = Element(value, value, rank)"
   ]
  },
  {
   "cell_type": "code",
   "execution_count": null,
   "metadata": {
    "collapsed": false
   },
   "outputs": [],
   "source": [
    "init_elements(n::Int) = [Element(i) for i in 1:n]\n",
    "\n",
    "function find!(v::Vector{Element}, i::Int)\n",
    "    if v[i].marker != i\n",
    "        v[i] = Element(i, find!(v, v[i].marker), v[i].rank)\n",
    "    end\n",
    "    return v[i].marker\n",
    "end\n",
    "\n",
    "function unite!(v::Vector{Element}, i_1::Int, i_2::Int)\n",
    "    i_1_root = find!(v, i_1)\n",
    "    i_2_root = find!(v, i_2)\n",
    "    \n",
    "    if v[i_1_root].rank < v[i_2_root].rank\n",
    "        v[i_1_root] = Element(i_1_root, i_2_root, v[i_1_root].rank)\n",
    "    elseif v[i_2_root].rank < v[i_1_root].rank\n",
    "        v[i_2_root] = Element(i_2_root, i_1_root, v[i_2_root].rank)\n",
    "    else\n",
    "        v[i_2_root] = Element(i_2_root, i_1_root, v[i_2_root].rank)\n",
    "        v[i_1_root] = Element(i_1_root, i_1_root, v[i_1_root].rank + 1)\n",
    "    end\n",
    "end"
   ]
  },
  {
   "cell_type": "code",
   "execution_count": null,
   "metadata": {
    "collapsed": false
   },
   "outputs": [],
   "source": [
    "get_tail!(e::Edge, v::Vector{Element}) = find!(v, e.tail.id)\n",
    "get_head!(e::Edge, v::Vector{Element}) = find!(v, e.head.id)\n",
    "\n",
    "is_looping!(e::Edge, v::Vector{Element}) = (get_tail!(e, v) == get_head!(e, v))"
   ]
  },
  {
   "cell_type": "code",
   "execution_count": null,
   "metadata": {
    "collapsed": false
   },
   "outputs": [],
   "source": [
    "function load_graph(filename)\n",
    "    lines = open(readlines, filename, \"r\")\n",
    "    g = Graph(length(lines))\n",
    "    \n",
    "    for line in lines\n",
    "        v_ids = [parse(Int, s) for s in matchall(r\"\\d+\", line)]\n",
    "        vertices = [g.vertices[id] for id in v_ids if id ≥ v_ids[1]]\n",
    "        tail = vertices[1]\n",
    "        heads = vertices[2:end]\n",
    "\n",
    "        add_edges!(g, tail, heads)\n",
    "    end\n",
    "    \n",
    "    return g\n",
    "end"
   ]
  },
  {
   "cell_type": "code",
   "execution_count": null,
   "metadata": {
    "collapsed": false
   },
   "outputs": [],
   "source": [
    "function get_karger_min_cut(g_original::Graph)\n",
    "    n = length(g.vertices)\n",
    "    min_cut = n\n",
    "    for rep in 1:(3 * n^2 * ceil(log(n)))\n",
    "        cut = randomized_contraction(g)\n",
    "        (min_cut > cut) && (min_cut = cut)\n",
    "    end\n",
    "    \n",
    "    return min_cut\n",
    "end"
   ]
  },
  {
   "cell_type": "code",
   "execution_count": null,
   "metadata": {
    "collapsed": false
   },
   "outputs": [],
   "source": [
    "function randomized_contraction(g::Graph)\n",
    "    v = init_elements(length(g.vertices))\n",
    "    n = length(g.vertices)\n",
    "    while n > 2\n",
    "        e = rand(g.edges)\n",
    "        tail = get_tail!(e, v)\n",
    "        head = get_head!(e, v)\n",
    "        if tail == head\n",
    "            continue\n",
    "        end\n",
    "        unite!(v, tail, head)\n",
    "        n -= 1\n",
    "    end\n",
    "    \n",
    "    cut = 0\n",
    "    for e in g.edges\n",
    "        tail = get_tail!(e, v)\n",
    "        head = get_head!(e, v)\n",
    "        if tail != head\n",
    "            cut += 1\n",
    "        end\n",
    "    end\n",
    "    \n",
    "    return cut\n",
    "end"
   ]
  },
  {
   "cell_type": "markdown",
   "metadata": {},
   "source": [
    "Correct answer is 17.\n",
    "\n",
    "This code took Jupyter 50 sec to calculate the answer with $3 n^2 \\lceil \\log n \\rceil = 720,000$ repetitions.\n",
    "The speedup is due to using the union-find data structure."
   ]
  },
  {
   "cell_type": "code",
   "execution_count": 48,
   "metadata": {
    "collapsed": false,
    "scrolled": false
   },
   "outputs": [
    {
     "name": "stdout",
     "output_type": "stream",
     "text": [
      " 49.858841 seconds (4.36 M allocations: 3.381 GB, 0.61% gc time)\n"
     ]
    },
    {
     "data": {
      "text/plain": [
       "17"
      ]
     },
     "execution_count": 48,
     "metadata": {},
     "output_type": "execute_result"
    }
   ],
   "source": [
    "FILE_PATH = \"kargerMinCut.txt\"\n",
    "g = load_graph(FILE_PATH)\n",
    "@time get_karger_min_cut(g)"
   ]
  }
 ],
 "metadata": {
  "kernelspec": {
   "display_name": "Julia 0.5.0",
   "language": "julia",
   "name": "julia-0.5"
  },
  "language_info": {
   "file_extension": ".jl",
   "mimetype": "application/julia",
   "name": "julia",
   "version": "0.5.0"
  }
 },
 "nbformat": 4,
 "nbformat_minor": 0
}

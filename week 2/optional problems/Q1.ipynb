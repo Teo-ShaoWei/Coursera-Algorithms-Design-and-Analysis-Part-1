{
 "cells": [
  {
   "cell_type": "markdown",
   "metadata": {},
   "source": [
    "## Problem"
   ]
  },
  {
   "cell_type": "markdown",
   "metadata": {},
   "source": [
    "Give the best upper bound that you can on the solution to the following recurrence: $T(1) = 1$ and $T(n) \\leq T(\\left\\lfloor \\sqrt{n} \\right\\rfloor) + 1$ for $n > 1$. (Here $\\lfloor x \\rfloor$ denotes the \"floor\" function, which rounds down to the nearest integer.)"
   ]
  },
  {
   "cell_type": "markdown",
   "metadata": {},
   "source": [
    "## Solution"
   ]
  },
  {
   "cell_type": "markdown",
   "metadata": {},
   "source": [
    "We conjectured that for $n \\in \\mathbb{Z}^+$, $\\lfloor \\log_2 n + 1 \\rfloor$ is the best upper bound for $T(n)$."
   ]
  },
  {
   "cell_type": "markdown",
   "metadata": {},
   "source": [
    "Let's prove that $T(n) \\leq \\left\\lfloor \\log_2 \\log_2 n \\right\\rfloor + 2$ for $n \\in \\mathbb{Z}_{\\geq 2}$. We do so by mathematical induction.\n",
    "\n",
    "For the base case, we establish that $T(2) \\leq T \\left(\\left\\lfloor \\sqrt{2} \\right\\rfloor\\right) + 1 = T(1) + 1 = 2 = \\left\\lfloor \\log_2 \\log_2 2 \\right\\rfloor + 2$. The same method give us $T(3) \\leq \\left\\lfloor \\log_2 \\log_2 3 \\right\\rfloor + 2$\n",
    "\n",
    "For $k \\in \\mathbb{Z}_{\\geq 4}$, let us assume that $T(i) \\leq \\lfloor \\log_2 \\log_2 i \\rfloor + 2$ for all $i \\in \\mathbb{Z}_{\\geq 2}$ where $i < k$. In particular, $\\left\\lfloor \\sqrt{k} \\right\\rfloor \\geq 2$, and so $T \\left(\\left\\lfloor \\sqrt{k} \\right\\rfloor\\right) \\leq \\left\\lfloor \\log_2 \\log_2 \\sqrt{k} \\right\\rfloor + 2 = \\left\\lfloor \\log_2 \\left( 2^{-1} \\log_2 k \\right)\\right\\rfloor + 2 = \\left\\lfloor \\log_2 \\log_2 k \\right\\rfloor + 1$.\n",
    "\n",
    "As such, we have $T(k) \\leq T\\left(\\left\\lfloor \\sqrt{k} \\right\\rfloor\\right) + 1 \\leq \\left\\lfloor \\log_2 \\log_2 k \\right\\rfloor + 2$, which conclude the inductive step."
   ]
  },
  {
   "cell_type": "markdown",
   "metadata": {},
   "source": [
    "Establishing this is the best upper bound is easy, since $T$ where $T(1) = 1$ and $T(n) = \\left\\lfloor \\log_2 \\log_2 n \\right\\rfloor + 2$ for $n \\in \\mathbb{Z}_{\\geq 2}$ satisfy the recurrence and hit the upper bound."
   ]
  }
 ],
 "metadata": {
  "kernelspec": {
   "display_name": "Python 3",
   "language": "python",
   "name": "python3"
  },
  "language_info": {
   "codemirror_mode": {
    "name": "ipython",
    "version": 3
   },
   "file_extension": ".py",
   "mimetype": "text/x-python",
   "name": "python",
   "nbconvert_exporter": "python",
   "pygments_lexer": "ipython3",
   "version": "3.5.1"
  }
 },
 "nbformat": 4,
 "nbformat_minor": 0
}

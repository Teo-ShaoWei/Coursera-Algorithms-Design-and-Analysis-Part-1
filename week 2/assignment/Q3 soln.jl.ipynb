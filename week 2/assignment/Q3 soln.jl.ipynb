{
 "cells": [
  {
   "cell_type": "markdown",
   "metadata": {},
   "source": [
    "For Q1, use the first element of the array as the pivot element.\n",
    "\n",
    "\n",
    "For Q3, use the \"median-of-three\" pivot rule.\n",
    "\n",
    "The primary motivation behind this rule is to do a little bit of extra work to get much better performance on input arrays that are nearly sorted or reverse sorted.\n",
    "\n",
    "In more detail, you should choose the pivot as follows. Consider the first, middle, and final elements of the given array. (If the array has odd length it should be clear what the \"middle\" element is; for an array with even length $2k$, use the $k$-th element as the \"middle\" element. So for the array `[4, 5, 6, 7]`, the \"middle\" element is the second one ---- `5` and not `6`!) Identify which of these three elements is the median (i.e., the one whose value is in between the other two), and use this as your pivot. As discussed in the first and second parts of this programming assignment, be sure to implement Partition exactly as described in the video lectures (including exchanging the pivot element with the first element just before the main Partition subroutine)."
   ]
  },
  {
   "cell_type": "markdown",
   "metadata": {},
   "source": [
    "Correct answer for this assignment is 138382."
   ]
  },
  {
   "cell_type": "code",
   "execution_count": 5,
   "metadata": {
    "collapsed": false
   },
   "outputs": [
    {
     "data": {
      "text/plain": [
       "count_comparison! (generic function with 1 method)"
      ]
     },
     "execution_count": 5,
     "metadata": {},
     "output_type": "execute_result"
    }
   ],
   "source": [
    "using NBInclude\n",
    "nbinclude(\"helper.jl.ipynb\")"
   ]
  },
  {
   "cell_type": "code",
   "execution_count": 6,
   "metadata": {
    "collapsed": false
   },
   "outputs": [
    {
     "data": {
      "text/plain": [
       "select_median_pivot! (generic function with 3 methods)"
      ]
     },
     "execution_count": 6,
     "metadata": {},
     "output_type": "execute_result"
    }
   ],
   "source": [
    "function select_median_pivot!(v::Vector, start_index::Int = 1, end_index::Int = length(v))\n",
    "    middle_index = (end_index + start_index) ÷ 2\n",
    "    pivot_candidates = [v[start_index], v[middle_index], v[end_index]]\n",
    "    pivot_candidates_index = [start_index, middle_index, end_index]\n",
    "    median_index = pivot_candidates_index[sortperm(pivot_candidates)[2]]\n",
    "    (v[start_index], v[median_index]) = (v[median_index], v[start_index])\n",
    "end"
   ]
  },
  {
   "cell_type": "code",
   "execution_count": 7,
   "metadata": {
    "collapsed": false
   },
   "outputs": [
    {
     "data": {
      "text/plain": [
       "count_comparison_3! (generic function with 1 method)"
      ]
     },
     "execution_count": 7,
     "metadata": {},
     "output_type": "execute_result"
    }
   ],
   "source": [
    "count_comparison_3!(v::Vector) = count_comparison!(select_median_pivot!, v)"
   ]
  },
  {
   "cell_type": "code",
   "execution_count": 8,
   "metadata": {
    "collapsed": false
   },
   "outputs": [
    {
     "data": {
      "text/plain": [
       "138382"
      ]
     },
     "execution_count": 8,
     "metadata": {},
     "output_type": "execute_result"
    }
   ],
   "source": [
    "integers = readcsv(\"QuickSort.txt\")[:]\n",
    "count_comparison_3!(integers)"
   ]
  }
 ],
 "metadata": {
  "kernelspec": {
   "display_name": "Julia 0.4.5",
   "language": "julia",
   "name": "julia-0.4"
  },
  "language_info": {
   "file_extension": ".jl",
   "mimetype": "application/julia",
   "name": "julia",
   "version": "0.4.5"
  }
 },
 "nbformat": 4,
 "nbformat_minor": 0
}

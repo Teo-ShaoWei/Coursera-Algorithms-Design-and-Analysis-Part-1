{
 "cells": [
  {
   "cell_type": "code",
   "execution_count": 10,
   "metadata": {
    "collapsed": false,
    "scrolled": true
   },
   "outputs": [
    {
     "data": {
      "text/plain": [
       "count_comparison! (generic function with 1 method)"
      ]
     },
     "execution_count": 10,
     "metadata": {},
     "output_type": "execute_result"
    }
   ],
   "source": [
    "using NBInclude\n",
    "nbinclude(\"helper.jl.ipynb\")"
   ]
  },
  {
   "cell_type": "code",
   "execution_count": 2,
   "metadata": {
    "collapsed": true
   },
   "outputs": [],
   "source": [
    "using FactCheck"
   ]
  },
  {
   "cell_type": "code",
   "execution_count": 12,
   "metadata": {
    "collapsed": false
   },
   "outputs": [
    {
     "name": "stdout",
     "output_type": "stream",
     "text": [
      "test `count_comparison!` using default `select_pivot!`\n",
      "  > sorted vector\n",
      "  > reverse vector\n",
      "  > random unsorted vector\n",
      "6 facts verified.\n"
     ]
    },
    {
     "data": {
      "text/plain": [
       "delayed_handler (generic function with 4 methods)"
      ]
     },
     "execution_count": 12,
     "metadata": {},
     "output_type": "execute_result"
    }
   ],
   "source": [
    "if current_module() == Main\n",
    "    facts(\"test `count_comparison!` using default `select_pivot!`\") do\n",
    "        my_count_comparison!(v::Vector) = count_comparison!(select_pivot!, v)\n",
    "        context(\"sorted vector\") do\n",
    "            @fact my_count_comparison!(Int[]) --> 0\n",
    "            @fact my_count_comparison!([3, 6, 8, 9, 14]) --> 10\n",
    "        end\n",
    "        context(\"reverse vector\") do\n",
    "            @fact my_count_comparison!(collect(2:-1:1)) --> 1\n",
    "            @fact my_count_comparison!(collect(3:-1:1)) --> 3\n",
    "            @fact my_count_comparison!(collect(10:-1:1)) --> 45\n",
    "        end\n",
    "        context(\"random unsorted vector\") do\n",
    "            @fact my_count_comparison!([14, 51, 9, 1, 41, 7, 42]) --> 11\n",
    "        end\n",
    "    end\n",
    "end"
   ]
  }
 ],
 "metadata": {
  "kernelspec": {
   "display_name": "Julia 0.4.5",
   "language": "julia",
   "name": "julia-0.4"
  },
  "language_info": {
   "file_extension": ".jl",
   "mimetype": "application/julia",
   "name": "julia",
   "version": "0.4.5"
  }
 },
 "nbformat": 4,
 "nbformat_minor": 0
}

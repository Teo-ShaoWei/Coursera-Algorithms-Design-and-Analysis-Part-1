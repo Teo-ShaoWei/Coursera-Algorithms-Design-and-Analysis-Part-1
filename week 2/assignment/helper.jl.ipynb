{
 "cells": [
  {
   "cell_type": "markdown",
   "metadata": {},
   "source": [
    "## Problem"
   ]
  },
  {
   "cell_type": "markdown",
   "metadata": {},
   "source": [
    "The file `QuickSort.txt` contains all of the integers between 1 and 10,000 (inclusive, with no repeats) in unsorted order. The integer in the $i$-th row of the file gives you the $i$-th entry of an input array.\n",
    "\n",
    "Your task is to compute the total number of comparisons used to sort the given input file by QuickSort. As you know, the number of comparisons depends on which elements are chosen as pivots, so we'll ask you to explore three different pivoting rules.\n",
    "\n",
    "You should not count comparisons one-by-one. Rather, when there is a recursive call on a subarray of length $m$, you should simply add $m − 1$ to your running total of comparisons. (This is because the pivot element is compared to each of the other $m − 1$ elements in the subarray in this recursive call.)\n",
    "\n",
    "WARNING: The Partition subroutine can be implemented in several different ways, and different implementations can give you differing numbers of comparisons. For this problem, you should implement the Partition subroutine exactly as it is described in the video lectures (otherwise you might get the wrong answer)."
   ]
  },
  {
   "cell_type": "markdown",
   "metadata": {},
   "source": [
    "## Solution"
   ]
  },
  {
   "cell_type": "markdown",
   "metadata": {},
   "source": [
    "The general idea is to use a modified quick sort, whereby the modified `partition` is a stateful function that also accumulates the number of comparisons done during partitioning (which is $m - 1$ for a $m$-element vector). Once the quick sort is done, we will recover the total number of comparisons done during this sort."
   ]
  },
  {
   "cell_type": "code",
   "execution_count": null,
   "metadata": {
    "collapsed": false
   },
   "outputs": [],
   "source": [
    "using NBInclude\n",
    "nbinclude(joinpath(readchomp(`git rev-parse --show-toplevel`),\n",
    "                             \"resource\",\n",
    "                             \"quick sort.jl.ipynb\"))"
   ]
  },
  {
   "cell_type": "code",
   "execution_count": null,
   "metadata": {
    "collapsed": false
   },
   "outputs": [],
   "source": [
    "function make_comparison_partition()\n",
    "    total_comparison = 0\n",
    "    \n",
    "    get_total_comparison() = total_comparison\n",
    "    \n",
    "    function comparison_partition!(v::Vector, start_index::Int, end_index::Int)\n",
    "        total_comparison += max(0, end_index - start_index)\n",
    "        return partition!(v, start_index, end_index)\n",
    "    end\n",
    "    \n",
    "    return comparison_partition!, get_total_comparison\n",
    "end"
   ]
  },
  {
   "cell_type": "code",
   "execution_count": null,
   "metadata": {
    "collapsed": false
   },
   "outputs": [],
   "source": [
    "function count_comparison!(select_pivot!::Function, v::Vector)\n",
    "    (comparison_partition!, get_total_comparison) = make_comparison_partition()\n",
    "    custom_quick_sort!(select_pivot!, comparison_partition!, v)\n",
    "    return get_total_comparison()\n",
    "end"
   ]
  }
 ],
 "metadata": {
  "kernelspec": {
   "display_name": "Julia 0.4.5",
   "language": "julia",
   "name": "julia-0.4"
  },
  "language_info": {
   "file_extension": ".jl",
   "mimetype": "application/julia",
   "name": "julia",
   "version": "0.4.5"
  }
 },
 "nbformat": 4,
 "nbformat_minor": 0
}

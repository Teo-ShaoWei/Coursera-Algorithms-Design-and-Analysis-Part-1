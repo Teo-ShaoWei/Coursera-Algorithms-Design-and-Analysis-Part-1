{
 "cells": [
  {
   "cell_type": "code",
   "execution_count": 9,
   "metadata": {
    "collapsed": false,
    "scrolled": true
   },
   "outputs": [
    {
     "data": {
      "text/plain": [
       "merge_sort (generic function with 1 method)"
      ]
     },
     "execution_count": 9,
     "metadata": {},
     "output_type": "execute_result"
    }
   ],
   "source": [
    "using NBInclude\n",
    "nbinclude(\"merge sort.jl.ipynb\")"
   ]
  },
  {
   "cell_type": "code",
   "execution_count": 10,
   "metadata": {
    "collapsed": true
   },
   "outputs": [],
   "source": [
    "using FactCheck "
   ]
  },
  {
   "cell_type": "code",
   "execution_count": 11,
   "metadata": {
    "collapsed": false,
    "scrolled": true
   },
   "outputs": [
    {
     "name": "stdout",
     "output_type": "stream",
     "text": [
      "test `merge`\n",
      "  > partition(s) empty\n",
      "  > partition in order\n",
      "  > partition out of order\n",
      "  > partition interleaves\n",
      "6 facts verified.\n"
     ]
    },
    {
     "data": {
      "text/plain": [
       "delayed_handler (generic function with 4 methods)"
      ]
     },
     "execution_count": 11,
     "metadata": {},
     "output_type": "execute_result"
    }
   ],
   "source": [
    "if current_module() == Main\n",
    "    facts(\"test `merge`\") do\n",
    "        context(\"partition(s) empty\") do\n",
    "            @fact merge(Int[], Int[]) --> Int[]\n",
    "            @fact merge(Int[], [4, 5, 8]) --> [4, 5, 8]\n",
    "            @fact merge([6, 9 , 12], Int[]) --> [6, 9, 12]\n",
    "        end\n",
    "        context(\"partition in order\") do\n",
    "            @fact merge([2, 6, 7], [8, 9, 15]) --> [2, 6, 7, 8, 9, 15]\n",
    "        end\n",
    "        context(\"partition out of order\") do\n",
    "            @fact merge([8, 9, 15], [2, 6, 7]) --> [2, 6, 7, 8, 9, 15]\n",
    "        end\n",
    "        context(\"partition interleaves\") do\n",
    "            @fact merge([2, 4, 6, 8, 10], [1, 3, 5, 7, 9]) --> collect(1:10)\n",
    "        end\n",
    "    end\n",
    "end"
   ]
  },
  {
   "cell_type": "code",
   "execution_count": 12,
   "metadata": {
    "collapsed": false
   },
   "outputs": [
    {
     "name": "stdout",
     "output_type": "stream",
     "text": [
      "test `custom_merge_sort`\n",
      "  > use `merge_sort`\n",
      "    > empty vector\n",
      "    > sorted vector\n",
      "    > reverse vector\n",
      "    > random unsorted vector\n",
      "4 facts verified.\n"
     ]
    },
    {
     "data": {
      "text/plain": [
       "delayed_handler (generic function with 4 methods)"
      ]
     },
     "execution_count": 12,
     "metadata": {},
     "output_type": "execute_result"
    }
   ],
   "source": [
    "if current_module() == Main\n",
    "    facts(\"test `custom_merge_sort`\") do\n",
    "        context(\"use `merge_sort`\") do\n",
    "            context(\"empty vector\") do\n",
    "                @fact merge_sort(Int[]) --> Int[]\n",
    "            end\n",
    "            context(\"sorted vector\") do\n",
    "                @fact merge_sort([3, 6, 8, 9, 14]) --> [3, 6, 8, 9, 14]\n",
    "            end\n",
    "            context(\"reverse vector\") do\n",
    "                @fact merge_sort(collect(9:-1:1)) --> collect(1:9)\n",
    "            end\n",
    "            context(\"random unsorted vector\") do\n",
    "                @fact merge_sort([14, 51, 9, 1, 41, 7, 42]) --> [1, 7, 9, 14, 41, 42, 51]\n",
    "            end\n",
    "        end\n",
    "    end\n",
    "end"
   ]
  }
 ],
 "metadata": {
  "kernelspec": {
   "display_name": "Julia 0.4.5",
   "language": "julia",
   "name": "julia-0.4"
  },
  "language_info": {
   "file_extension": ".jl",
   "mimetype": "application/julia",
   "name": "julia",
   "version": "0.4.5"
  }
 },
 "nbformat": 4,
 "nbformat_minor": 0
}

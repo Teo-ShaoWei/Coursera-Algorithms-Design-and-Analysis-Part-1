{
 "cells": [
  {
   "cell_type": "code",
   "execution_count": null,
   "metadata": {
    "collapsed": false
   },
   "outputs": [],
   "source": [
    "using NBInclude\n",
    "nbinclude(\"binary search.jl.ipynb\")"
   ]
  },
  {
   "cell_type": "code",
   "execution_count": null,
   "metadata": {
    "collapsed": true
   },
   "outputs": [],
   "source": [
    "using FactCheck"
   ]
  },
  {
   "cell_type": "code",
   "execution_count": null,
   "metadata": {
    "collapsed": false
   },
   "outputs": [],
   "source": [
    "if current_module() == Main\n",
    "    facts(\"test `make_get_difference`\") do\n",
    "        context(\"get value at index\") do\n",
    "            get_difference = make_get_difference(0)\n",
    "            vector = collect(-2:2)\n",
    "            \n",
    "            @fact get_difference(vector, 1) --> -2\n",
    "            @fact get_difference(vector, 3) --> 0\n",
    "            @fact get_difference(vector, 5) --> 2\n",
    "        end\n",
    "        context(\"get difference with positive number\") do\n",
    "            get_difference = make_get_difference(4)\n",
    "            vector = collect(0:8)\n",
    "            \n",
    "            @fact get_difference(vector, 1) --> -4\n",
    "            @fact get_difference(vector, 5) --> 0\n",
    "            @fact get_difference(vector, 9) --> 4\n",
    "        end\n",
    "        context(\"get difference with negataive number\") do\n",
    "            get_difference = make_get_difference(-1)\n",
    "            vector = collect(-5:2)\n",
    "            \n",
    "            @fact get_difference(vector, 1) --> -4\n",
    "            @fact get_difference(vector, 5) --> 0\n",
    "            @fact get_difference(vector, 8) --> 3\n",
    "        end\n",
    "    end\n",
    "end"
   ]
  },
  {
   "cell_type": "code",
   "execution_count": null,
   "metadata": {
    "collapsed": false
   },
   "outputs": [],
   "source": [
    "if current_module() == Main\n",
    "    facts(\"test `custom_binary_search`\") do\n",
    "        context(\"use `binary_search`\") do\n",
    "            context(\"empty vector\") do\n",
    "                @fact binary_search(Int[], 4) --> 1\n",
    "            end\n",
    "            context(\"index exists\") do\n",
    "                @fact binary_search(collect(11:15), 11) --> 1\n",
    "                @fact binary_search(collect(11:15), 15) --> 5\n",
    "                @fact binary_search(collect(11:15), 13) --> 3\n",
    "            end\n",
    "            context(\"value between indices\") do\n",
    "                @fact binary_search(collect(1:2:9), 2) --> 2\n",
    "                @fact binary_search(collect(1:2:9), 8) --> 5\n",
    "            end\n",
    "            context(\"repeated values\") do\n",
    "                @fact binary_search([1, 1, 2, 2, 3, 3], 3) --> 5\n",
    "            end\n",
    "            context(\"out of range\") do\n",
    "                @fact binary_search(collect(1:3), 5) --> 4\n",
    "                @fact binary_search(collect(1:3), -4) --> 1\n",
    "            end\n",
    "        end\n",
    "    end\n",
    "end"
   ]
  }
 ],
 "metadata": {
  "kernelspec": {
   "display_name": "Julia 0.4.5",
   "language": "julia",
   "name": "julia-0.4"
  },
  "language_info": {
   "file_extension": ".jl",
   "mimetype": "application/julia",
   "name": "julia",
   "version": "0.4.5"
  }
 },
 "nbformat": 4,
 "nbformat_minor": 0
}

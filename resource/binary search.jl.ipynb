{
 "cells": [
  {
   "cell_type": "markdown",
   "metadata": {},
   "source": [
    "Some of the questions require a custom version of binary search. The structure remains the same, but during the calculation of difference step, a different algorithm occurs. Nevertheless, if the difference is 0, we have a hit. If the difference is negative, that means our index is small and we will want to move right. Else, we will want to move left.\n",
    "\n",
    "The below is the definition of the `custom_binary_search`. The midpoint is left-leaning, i.e. 10-element vector gives a midpoint at index 5.\n",
    "\n",
    "This binary search will return the smallest index that has the searched criteria satisfied, or else the index where a slot in is correct. This is a desirable action, and error catching, if any, is delegated to the calling function.\n",
    "\n",
    "The ordinary `binary_search` is defined using `custom_binary_search` and `make_get_difference`, which creates the ordinary difference function."
   ]
  },
  {
   "cell_type": "code",
   "execution_count": null,
   "metadata": {
    "collapsed": true
   },
   "outputs": [],
   "source": [
    "function custom_binary_search(get_difference::Function, v::Vector)\n",
    "    start_index = 1; end_index = length(v)\n",
    "    mid_index = midpoint(start_index, end_index)\n",
    "    \n",
    "    while start_index ≤ end_index\n",
    "        difference = get_difference(v, mid_index)\n",
    "        \n",
    "        if difference < 0\n",
    "            start_index = mid_index + 1\n",
    "        else\n",
    "            end_index = mid_index - 1\n",
    "        end\n",
    "        \n",
    "        mid_index = midpoint(start_index, end_index)\n",
    "    end\n",
    "    \n",
    "    return start_index\n",
    "end\n",
    "\n",
    "midpoint(start_index::Int, end_index::Int) = (start_index + end_index) ÷ 2"
   ]
  },
  {
   "cell_type": "code",
   "execution_count": null,
   "metadata": {
    "collapsed": true
   },
   "outputs": [],
   "source": [
    "function make_get_difference{T}(value::T)\n",
    "    get_difference(v::Vector{T}, index::Int) = v[index] - value\n",
    "    return get_difference\n",
    "end"
   ]
  },
  {
   "cell_type": "code",
   "execution_count": null,
   "metadata": {
    "collapsed": true
   },
   "outputs": [],
   "source": [
    "function binary_search{T}(v::Vector{T}, search_value::T)\n",
    "    get_difference = make_get_difference(search_value)\n",
    "    return custom_binary_search(get_difference, v)\n",
    "end"
   ]
  }
 ],
 "metadata": {
  "kernelspec": {
   "display_name": "Julia 0.4.5",
   "language": "julia",
   "name": "julia-0.4"
  },
  "language_info": {
   "file_extension": ".jl",
   "mimetype": "application/julia",
   "name": "julia",
   "version": "0.4.5"
  }
 },
 "nbformat": 4,
 "nbformat_minor": 0
}

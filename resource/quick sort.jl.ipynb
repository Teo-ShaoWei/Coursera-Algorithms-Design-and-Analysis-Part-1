{
 "cells": [
  {
   "cell_type": "markdown",
   "metadata": {},
   "source": [
    "Some of the questions require a custom version of quick sort. The structure remains the same, but we can use a custom `select_pivot!` function that select a pivot and swap it to the first place of the vector, and a custom `partition!` function that implement partition the way we want.\n",
    "\n",
    "The below is the definition of the `custom_quick_sort!`.\n",
    "\n",
    "The ordinary `select_pivot!` and `partition!` functions are defined, and the ordinary `quick_sort!` is defined using `custom_quick_sort!` and the ordinary components."
   ]
  },
  {
   "cell_type": "code",
   "execution_count": null,
   "metadata": {
    "collapsed": false
   },
   "outputs": [],
   "source": [
    "function custom_quick_sort!(select_pivot!::Function, partition!::Function, v::Vector, start_index::Int = 1, end_index::Int = length(v))\n",
    "    if end_index - start_index < 1\n",
    "        return\n",
    "    end\n",
    "    \n",
    "    select_pivot!(v, start_index, end_index)\n",
    "    (v, pivot_index) = partition!(v, start_index, end_index)\n",
    "    \n",
    "    custom_quick_sort!(select_pivot!, partition!, v, start_index, pivot_index - 1)\n",
    "    custom_quick_sort!(select_pivot!, partition!, v, pivot_index + 1, end_index)\n",
    "end"
   ]
  },
  {
   "cell_type": "code",
   "execution_count": null,
   "metadata": {
    "collapsed": true
   },
   "outputs": [],
   "source": [
    "function select_pivot!(v::Vector, start_index::Int, end_index::Int)\n",
    "end"
   ]
  },
  {
   "cell_type": "code",
   "execution_count": 1,
   "metadata": {
    "collapsed": false
   },
   "outputs": [
    {
     "data": {
      "text/plain": [
       "partition! (generic function with 1 method)"
      ]
     },
     "execution_count": 1,
     "metadata": {},
     "output_type": "execute_result"
    }
   ],
   "source": [
    "function partition!(v::Vector, start_index::Int = 1, end_index::Int = length(v))\n",
    "    pivot = v[start_index]\n",
    "    pivot_index = start_index\n",
    "    \n",
    "    for i in (start_index + 1):end_index\n",
    "        if v[i] < pivot\n",
    "            pivot_index += 1\n",
    "            (v[i], v[pivot_index]) = (v[pivot_index], v[i])\n",
    "        end\n",
    "    end\n",
    "    \n",
    "    (v[start_index], v[pivot_index]) = (v[pivot_index], v[start_index])\n",
    "    \n",
    "    return (v, pivot_index)\n",
    "end"
   ]
  },
  {
   "cell_type": "code",
   "execution_count": null,
   "metadata": {
    "collapsed": false
   },
   "outputs": [],
   "source": [
    "quick_sort!(v::Vector) = custom_quick_sort!(select_pivot!, partition!, v)"
   ]
  }
 ],
 "metadata": {
  "kernelspec": {
   "display_name": "Julia 0.4.5",
   "language": "julia",
   "name": "julia-0.4"
  },
  "language_info": {
   "file_extension": ".jl",
   "mimetype": "application/julia",
   "name": "julia",
   "version": "0.4.5"
  }
 },
 "nbformat": 4,
 "nbformat_minor": 0
}

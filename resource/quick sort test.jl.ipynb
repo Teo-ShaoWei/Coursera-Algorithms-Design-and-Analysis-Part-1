{
 "cells": [
  {
   "cell_type": "code",
   "execution_count": 11,
   "metadata": {
    "collapsed": false,
    "scrolled": true
   },
   "outputs": [
    {
     "data": {
      "text/plain": [
       "quick_sort! (generic function with 1 method)"
      ]
     },
     "execution_count": 11,
     "metadata": {},
     "output_type": "execute_result"
    }
   ],
   "source": [
    "using NBInclude\n",
    "nbinclude(\"quick sort.jl.ipynb\")"
   ]
  },
  {
   "cell_type": "code",
   "execution_count": 2,
   "metadata": {
    "collapsed": true
   },
   "outputs": [],
   "source": [
    "using FactCheck"
   ]
  },
  {
   "cell_type": "code",
   "execution_count": 12,
   "metadata": {
    "collapsed": false,
    "scrolled": true
   },
   "outputs": [
    {
     "name": "stdout",
     "output_type": "stream",
     "text": [
      "test `partition!`\n",
      "  > edge cases\n",
      "  > messy partitions\n",
      "  > with start and end index\n",
      "8 facts verified.\n"
     ]
    },
    {
     "data": {
      "text/plain": [
       "delayed_handler (generic function with 4 methods)"
      ]
     },
     "execution_count": 12,
     "metadata": {},
     "output_type": "execute_result"
    }
   ],
   "source": [
    "if current_module() == Main\n",
    "    facts(\"test `partition!`\") do\n",
    "        context(\"edge cases\") do\n",
    "            @fact partition!([3]) --> ([3], 1)\n",
    "            @fact partition!([4, 5, 8]) --> ([4, 5, 8], 1)\n",
    "            @fact partition!([14, 3 , 5]) --> ([5, 3, 14], 3)\n",
    "        end\n",
    "        context(\"messy partitions\") do\n",
    "            @fact partition!([5, 1, 8]) --> ([1, 5, 8], 2)\n",
    "            @fact partition!([7, 2, 8, 3, 9]) --> ([3, 2, 7, 8, 9], 3)\n",
    "            @fact partition!([5, 7, 3, 8, 2, 9]) --> ([2, 3, 5, 8, 7, 9], 3)\n",
    "        end\n",
    "        context(\"with start and end index\") do\n",
    "            @fact partition!([8, 5, 3], 2, 2) --> ([8, 5, 3], 2)\n",
    "            @fact partition!([4, 3, 5, 8, 7], 4, 5) --> ([4, 3, 5, 7, 8], 5)\n",
    "        end\n",
    "    end\n",
    "end"
   ]
  },
  {
   "cell_type": "code",
   "execution_count": 13,
   "metadata": {
    "collapsed": false
   },
   "outputs": [
    {
     "name": "stdout",
     "output_type": "stream",
     "text": [
      "test `custom_quick_sort!`\n",
      "  > use `quick_sort!\n",
      "    > empty vector\n",
      "    > sorted vector\n",
      "    > reverse vector\n",
      "    > random unsorted vector\n",
      "4 facts verified.\n"
     ]
    },
    {
     "data": {
      "text/plain": [
       "delayed_handler (generic function with 4 methods)"
      ]
     },
     "execution_count": 13,
     "metadata": {},
     "output_type": "execute_result"
    }
   ],
   "source": [
    "if current_module() == Main\n",
    "    facts(\"test `custom_quick_sort!`\") do\n",
    "        context(\"use `quick_sort!\") do\n",
    "            function quick_sort(v::Vector)\n",
    "                quick_sort!(v)\n",
    "                return v\n",
    "            end\n",
    "            \n",
    "            context(\"empty vector\") do\n",
    "                @fact quick_sort(Int[]) --> Int[]\n",
    "            end\n",
    "            context(\"sorted vector\") do\n",
    "                @fact quick_sort([3, 6, 8, 9, 14]) --> [3, 6, 8, 9, 14]\n",
    "            end\n",
    "            context(\"reverse vector\") do\n",
    "                @fact quick_sort(collect(9:-1:1)) --> collect(1:9)\n",
    "            end\n",
    "            context(\"random unsorted vector\") do\n",
    "                @fact quick_sort([14, 51, 9, 1, 41, 7, 42]) --> [1, 7, 9, 14, 41, 42, 51]\n",
    "            end\n",
    "        end\n",
    "    end\n",
    "end"
   ]
  }
 ],
 "metadata": {
  "kernelspec": {
   "display_name": "Julia 0.4.5",
   "language": "julia",
   "name": "julia-0.4"
  },
  "language_info": {
   "file_extension": ".jl",
   "mimetype": "application/julia",
   "name": "julia",
   "version": "0.4.5"
  }
 },
 "nbformat": 4,
 "nbformat_minor": 0
}

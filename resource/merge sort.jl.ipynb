{
 "cells": [
  {
   "cell_type": "markdown",
   "metadata": {},
   "source": [
    "Some of the questions require a custom version of merge sort. The structure remains the same, but during the base step and the merge step, a different algorithm occurs.\n",
    "\n",
    "The below is the definition of the `custom_merge_sort`. The midpoint is right-partition heavy, i.e. 9-element vector is partition into 4-element and 5-element.\n",
    "\n",
    "The ordinary `base` and `merge` functions are defined, and the ordinary `merge_sort` is defined using `custom_merge_sort` and the ordinary components."
   ]
  },
  {
   "cell_type": "code",
   "execution_count": null,
   "metadata": {
    "collapsed": false
   },
   "outputs": [],
   "source": [
    "function custom_merge_sort(merge::Function, v::Vector)\n",
    "    if length(v) < 2\n",
    "        return v\n",
    "    end\n",
    "    \n",
    "    mid = length(v) ÷ 2\n",
    "    sortedₗ = custom_merge_sort(merge, v[1:mid])\n",
    "    sortedᵣ = custom_merge_sort(merge, v[mid + 1: end])\n",
    "    return merge(sortedₗ, sortedᵣ)\n",
    "end"
   ]
  },
  {
   "cell_type": "code",
   "execution_count": null,
   "metadata": {
    "collapsed": false
   },
   "outputs": [],
   "source": [
    "function merge{T}(v₁::Vector{T}, v₂::Vector{T})\n",
    "    result = T[]\n",
    "    \n",
    "    i₁ = 1; i₂ = 1\n",
    "    while i₁ ≤ length(v₁) && i₂ ≤ length(v₂)\n",
    "        if v₁[i₁] ≤ v₂[i₂]\n",
    "            push!(result, v₁[i₁])\n",
    "            i₁ += 1\n",
    "        else\n",
    "            push!(result, v₂[i₂])\n",
    "            i₂ += 1\n",
    "        end\n",
    "    end\n",
    "    \n",
    "    append!(result, v₁[i₁:end])\n",
    "    append!(result, v₂[i₂:end])\n",
    "    \n",
    "    return result\n",
    "end"
   ]
  },
  {
   "cell_type": "code",
   "execution_count": null,
   "metadata": {
    "collapsed": false
   },
   "outputs": [],
   "source": [
    "merge_sort(v::Vector) = custom_merge_sort(merge, v)"
   ]
  }
 ],
 "metadata": {
  "kernelspec": {
   "display_name": "Julia 0.4.5",
   "language": "julia",
   "name": "julia-0.4"
  },
  "language_info": {
   "file_extension": ".jl",
   "mimetype": "application/julia",
   "name": "julia",
   "version": "0.4.5"
  }
 },
 "nbformat": 4,
 "nbformat_minor": 0
}

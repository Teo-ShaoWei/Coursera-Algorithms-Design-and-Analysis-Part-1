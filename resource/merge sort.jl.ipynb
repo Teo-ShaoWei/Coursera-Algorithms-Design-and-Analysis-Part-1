{
 "cells": [
  {
   "cell_type": "markdown",
   "metadata": {},
   "source": [
    "Some of the questions require a custom version of merge sort. The structure remains the same, but during the merge step, a different algorithm occurs.\n",
    "\n",
    "The below is the definition of the `custom_merge_sort`. The midpoint is right-partition heavy, i.e. 9-element vector is partition into 4-element and 5-element.\n",
    "\n",
    "The ordinary `merge` function is defined, and the ordinary `merge_sort` is defined using `custom_merge_sort` and `merge`."
   ]
  },
  {
   "cell_type": "code",
   "execution_count": null,
   "metadata": {
    "collapsed": false
   },
   "outputs": [],
   "source": [
    "function custom_merge_sort(merge::Function, base::Function, v::Vector)\n",
    "    if length(v) < 2\n",
    "        return base(v)\n",
    "    end\n",
    "    \n",
    "    mid = length(v) ÷ 2\n",
    "    sortedₗ = custom_merge_sort(merge, base, v[1:mid])\n",
    "    sortedᵣ = custom_merge_sort(merge, base, v[mid + 1: end])\n",
    "    return merge(sortedₗ, sortedᵣ)\n",
    "end"
   ]
  },
  {
   "cell_type": "code",
   "execution_count": null,
   "metadata": {
    "collapsed": false
   },
   "outputs": [],
   "source": [
    "base(v::Vector) = v"
   ]
  },
  {
   "cell_type": "code",
   "execution_count": null,
   "metadata": {
    "collapsed": false
   },
   "outputs": [],
   "source": [
    "function merge{T}(v₁::Vector{T}, v₂::Vector{T})\n",
    "    result = T[]\n",
    "    \n",
    "    i₁ = 1; i₂ = 1\n",
    "    while i₁ ≤ length(v₁) && i₂ ≤ length(v₂)\n",
    "        if v₁[i₁] ≤ v₂[i₂]\n",
    "            push!(result, v₁[i₁])\n",
    "            i₁ += 1\n",
    "        else\n",
    "            push!(result, v₂[i₂])\n",
    "            i₂ += 1\n",
    "        end\n",
    "    end\n",
    "    \n",
    "    append!(result, v₁[i₁:end])\n",
    "    append!(result, v₂[i₂:end])\n",
    "    \n",
    "    return result\n",
    "end"
   ]
  },
  {
   "cell_type": "code",
   "execution_count": null,
   "metadata": {
    "collapsed": false
   },
   "outputs": [],
   "source": [
    "merge_sort(v::Vector) = custom_merge_sort(merge, base, v)"
   ]
  },
  {
   "cell_type": "markdown",
   "metadata": {},
   "source": [
    "Unit tests are developed together with the functions."
   ]
  },
  {
   "cell_type": "code",
   "execution_count": null,
   "metadata": {
    "collapsed": true
   },
   "outputs": [],
   "source": [
    "using FactCheck"
   ]
  },
  {
   "cell_type": "code",
   "execution_count": null,
   "metadata": {
    "collapsed": false
   },
   "outputs": [],
   "source": [
    "if current_module() == Main\n",
    "    facts(\"test `merge`\") do\n",
    "        context(\"partition(s) empty\") do\n",
    "            @fact merge(Int[], Int[]) --> Int[]\n",
    "            @fact merge(Int[], [4, 5, 8]) --> [4, 5, 8]\n",
    "            @fact merge([6, 9 , 12], Int[]) --> [6, 9, 12]\n",
    "        end\n",
    "        context(\"partition in order\") do\n",
    "            @fact merge([2, 6, 7], [8, 9, 15]) --> [2, 6, 7, 8, 9, 15]\n",
    "        end\n",
    "        context(\"partition out of order\") do\n",
    "            @fact merge([8, 9, 15], [2, 6, 7]) --> [2, 6, 7, 8, 9, 15]\n",
    "        end\n",
    "        context(\"partition interleaves\") do\n",
    "            @fact merge([2, 4, 6, 8, 10], [1, 3, 5, 7, 9]) --> collect(1:10)\n",
    "        end\n",
    "    end\n",
    "end"
   ]
  },
  {
   "cell_type": "code",
   "execution_count": null,
   "metadata": {
    "collapsed": false
   },
   "outputs": [],
   "source": [
    "if current_module() == Main\n",
    "    facts(\"test `custom_merge_sort`\") do\n",
    "        context(\"use `merge_sort`\") do\n",
    "            context(\"empty vector\") do\n",
    "                @fact merge_sort(Int[]) --> Int[]\n",
    "            end\n",
    "            context(\"sorted vector\") do\n",
    "                @fact merge_sort([3, 6, 8, 9, 14]) --> [3, 6, 8, 9, 14]\n",
    "            end\n",
    "            context(\"reverse vector\") do\n",
    "                @fact merge_sort(collect(9:-1:1)) --> collect(1:9)\n",
    "            end\n",
    "            context(\"random unsorted vector\") do\n",
    "                @fact merge_sort([14, 51, 9, 1, 41, 7, 42]) --> [1, 7, 9, 14, 41, 42, 51]\n",
    "            end\n",
    "        end\n",
    "    end\n",
    "end"
   ]
  }
 ],
 "metadata": {
  "kernelspec": {
   "display_name": "Julia 0.4.5",
   "language": "julia",
   "name": "julia-0.4"
  },
  "language_info": {
   "file_extension": ".jl",
   "mimetype": "application/julia",
   "name": "julia",
   "version": "0.4.5"
  }
 },
 "nbformat": 4,
 "nbformat_minor": 0
}
